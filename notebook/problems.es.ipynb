{
 "cells": [
  {
   "cell_type": "markdown",
   "id": "a41f3622",
   "metadata": {},
   "source": [
    "# Ejercicios de probabilidad"
   ]
  },
  {
   "cell_type": "markdown",
   "id": "a6bdbd89",
   "metadata": {},
   "source": [
    "## Ejercicio 1 \n",
    "\n",
    "Dos dados se lanzan una vez y se observa el total obtenido. Usa una simulación para encontrar la probabilidad estimada de que la puntuación sea mayor a 7 o un número par. Una simulación es una repetición del mismo experimento multiples veces para observar su comportamiento:\n",
    "\n",
    "- Ejecuta el experimento 1000 veces (lanza 2 dados 1000 veces, y suma el número de ambos dados).\n",
    "- Lleva ua cuenta de los números y las veces que la suma fue mayor a 7 o un número par.\n",
    "- Divide el número del paso 2 entre el número de iteraciones(1000)."
   ]
  },
  {
   "cell_type": "code",
   "execution_count": null,
   "id": "8939d892",
   "metadata": {},
   "outputs": [
    {
     "name": "stdout",
     "output_type": "stream",
     "text": [
      "Los intentos fueron 10000, los casos exitosos fueron 6643, la probabilidad es de 0.6643\n"
     ]
    }
   ],
   "source": [
    "import random\n",
    "trials=10000\n",
    "counter=0\n",
    "esperados=[2,4,6,8,9,10,11,12]\n",
    "\n",
    "for _ in range(trials):\n",
    "  dado1=random.choice(range(1,7))\n",
    "  dado2=random.choice(range(1,7))\n",
    "  puntuacion= dado1 + dado2\n",
    "    \n",
    "  if puntuacion in esperados:\n",
    "    counter+=1\n",
    "\n",
    "\n",
    "probabilidad=counter/trials\n",
    "print(f\"Los intentos fueron {trials}, los casos exitosos fueron {counter}, la probabilidad es de {probabilidad}\")\n"
   ]
  },
  {
   "cell_type": "markdown",
   "id": "55732bca",
   "metadata": {},
   "source": [
    "## Ejercicio 2\n",
    "\n",
    "Una caja contiene 10 bolas blancas, 20 bolas rojas y 30 bolas verdes. Si tomamos 5 bolas de la caja reemplazándolas (tomando una bola, anotando el color y luego regresandola a la caja). Queremos saber la probabilidad de:\n",
    "\n",
    "1. Tomar 3 blancas y 2 rojas.\n",
    "2. Todas todas del mismo color.\n",
    "\n",
    "Ejecuta el experimento 1000 veces y calcula las probabilidades que mencionadas."
   ]
  },
  {
   "cell_type": "code",
   "execution_count": 7,
   "id": "23244d20",
   "metadata": {},
   "outputs": [
    {
     "name": "stdout",
     "output_type": "stream",
     "text": [
      "Se realizaron 1000 experimentos\n",
      "Probabilidad de sacar 3 blancas y 2 rojas: 0.0040\n",
      "Probabilidad de sacar 5 del mismo color: 0.0340\n"
     ]
    }
   ],
   "source": [
    "import random\n",
    "ball_box = {}\n",
    "experimentos = 1000\n",
    "counter_1 = 0\n",
    "counter_2 = 0\n",
    "\n",
    "for i in range(60):\n",
    "    if i < 10:\n",
    "        ball_box[i] = \"White\"\n",
    "    elif (i > 9) and (i < 30):\n",
    "        ball_box[i] = \"Red\"\n",
    "    else:\n",
    "        ball_box[i] = \"Green\"                 \n",
    "\n",
    "for _ in range(experimentos):\n",
    "    seleccion = random.choices(ball_box, k=5) \n",
    "    blancas = seleccion.count(\"White\")\n",
    "    rojas = seleccion.count(\"Red\")\n",
    "    verdes = seleccion.count(\"Green\")\n",
    "\n",
    "    if blancas == 3 and rojas == 2:\n",
    "        counter_1 += 1\n",
    "    if blancas == 5 or rojas == 5 or verdes == 5:\n",
    "        counter_2 += 1\n",
    "\n",
    "probabilidad_1 = counter_1 / experimentos\n",
    "probabilidad_2 = counter_2 / experimentos\n",
    "print(f\"Se realizaron {experimentos} experimentos\")\n",
    "print(f\"Probabilidad de sacar 3 blancas y 2 rojas: {probabilidad_1:.4f}\")\n",
    "print(f\"Probabilidad de sacar 5 del mismo color: {probabilidad_2:.4f}\")\n"
   ]
  }
 ],
 "metadata": {
  "kernelspec": {
   "display_name": "Python 3",
   "language": "python",
   "name": "python3"
  },
  "language_info": {
   "codemirror_mode": {
    "name": "ipython",
    "version": 3
   },
   "file_extension": ".py",
   "mimetype": "text/x-python",
   "name": "python",
   "nbconvert_exporter": "python",
   "pygments_lexer": "ipython3",
   "version": "3.11.4"
  }
 },
 "nbformat": 4,
 "nbformat_minor": 5
}
